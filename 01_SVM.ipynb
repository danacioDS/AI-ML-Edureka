{
  "nbformat": 4,
  "nbformat_minor": 0,
  "metadata": {
    "colab": {
      "name": "01 SVM.ipynb",
      "provenance": [],
      "collapsed_sections": [],
      "authorship_tag": "ABX9TyPITPO0UQPyyaP/elBEEMpN",
      "include_colab_link": true
    },
    "kernelspec": {
      "name": "python3",
      "display_name": "Python 3"
    }
  },
  "cells": [
    {
      "cell_type": "markdown",
      "metadata": {
        "id": "view-in-github",
        "colab_type": "text"
      },
      "source": [
        "<a href=\"https://colab.research.google.com/github/danacioDS/AI-ML-Edureka/blob/master/01_SVM.ipynb\" target=\"_parent\"><img src=\"https://colab.research.google.com/assets/colab-badge.svg\" alt=\"Open In Colab\"/></a>"
      ]
    },
    {
      "cell_type": "markdown",
      "metadata": {
        "id": "osD8dCfexjG1",
        "colab_type": "text"
      },
      "source": [
        "**Support Vector Machine**"
      ]
    },
    {
      "cell_type": "code",
      "metadata": {
        "id": "bLNohp1dxgnh",
        "colab_type": "code",
        "colab": {}
      },
      "source": [
        "import pandas as pd \n",
        "import numpy as np\n",
        "from sklearn import datasets\n",
        "from sklearn.model_selection import train_test_split\n",
        "from sklearn import svm\n",
        "from sklearn import metrics"
      ],
      "execution_count": null,
      "outputs": []
    },
    {
      "cell_type": "code",
      "metadata": {
        "id": "h9hI4Cnh5JbE",
        "colab_type": "code",
        "colab": {}
      },
      "source": [
        "cancer_data = datasets.load_breast_cancer()"
      ],
      "execution_count": null,
      "outputs": []
    },
    {
      "cell_type": "code",
      "metadata": {
        "id": "1cr6M4Jj6rJ7",
        "colab_type": "code",
        "colab": {}
      },
      "source": [
        "feature_names = ['mean radius', 'mean texture', 'mean perimeter', 'mean area',\n",
        "        'mean smoothness', 'mean compactness', 'mean concavity',\n",
        "        'mean concave points', 'mean symmetry', 'mean fractal dimension',\n",
        "        'radius error', 'texture error', 'perimeter error', 'area error',\n",
        "        'smoothness error', 'compactness error', 'concavity error',\n",
        "        'concave points error', 'symmetry error',\n",
        "        'fractal dimension error', 'worst radius', 'worst texture',\n",
        "        'worst perimeter', 'worst area', 'worst smoothness',\n",
        "        'worst compactness', 'worst concavity', 'worst concave points',\n",
        "        'worst symmetry', 'worst fractal dimension']\n",
        "target_names = ['malignant', 'benign']\n",
        "\n",
        "names = feature_names + target_names"
      ],
      "execution_count": null,
      "outputs": []
    },
    {
      "cell_type": "code",
      "metadata": {
        "id": "E1oced4m5RTm",
        "colab_type": "code",
        "colab": {}
      },
      "source": [
        "X_train, X_test, y_train, y_test = train_test_split(cancer_data.data, cancer_data.target,  test_size=0.33, random_state=42)"
      ],
      "execution_count": null,
      "outputs": []
    },
    {
      "cell_type": "code",
      "metadata": {
        "id": "1Ujk3KB35gVA",
        "colab_type": "code",
        "colab": {}
      },
      "source": [
        "cls = svm.SVC(kernel = 'linear')"
      ],
      "execution_count": null,
      "outputs": []
    },
    {
      "cell_type": "code",
      "metadata": {
        "id": "Hf_y-EiR5lL1",
        "colab_type": "code",
        "colab": {
          "base_uri": "https://localhost:8080/",
          "height": 85
        },
        "outputId": "ed031f8c-1bdb-4425-dc25-e800dcf0e9de"
      },
      "source": [
        "# Train the model\n",
        "\n",
        "cls.fit(X_train, y_train)\n"
      ],
      "execution_count": null,
      "outputs": [
        {
          "output_type": "execute_result",
          "data": {
            "text/plain": [
              "SVC(C=1.0, break_ties=False, cache_size=200, class_weight=None, coef0=0.0,\n",
              "    decision_function_shape='ovr', degree=3, gamma='scale', kernel='linear',\n",
              "    max_iter=-1, probability=False, random_state=None, shrinking=True,\n",
              "    tol=0.001, verbose=False)"
            ]
          },
          "metadata": {
            "tags": []
          },
          "execution_count": 12
        }
      ]
    },
    {
      "cell_type": "code",
      "metadata": {
        "id": "FstbJTsK5sqv",
        "colab_type": "code",
        "colab": {
          "base_uri": "https://localhost:8080/",
          "height": 34
        },
        "outputId": "deec409e-6568-4989-9670-aff9385c1bbb"
      },
      "source": [
        "# Predict the response\n",
        "\n",
        "pred = cls.predict(X_test)\n",
        "print('accuracy', metrics.accuracy_score(y_test, y_pred=pred))"
      ],
      "execution_count": null,
      "outputs": [
        {
          "output_type": "stream",
          "text": [
            "accuracy 0.9574468085106383\n"
          ],
          "name": "stdout"
        }
      ]
    },
    {
      "cell_type": "code",
      "metadata": {
        "id": "X30ON4m_5-PF",
        "colab_type": "code",
        "colab": {
          "base_uri": "https://localhost:8080/",
          "height": 34
        },
        "outputId": "ac0ea117-4d10-48b4-9dba-8e43fb44f393"
      },
      "source": [
        "# Precit Score\n",
        "print('prediction', metrics.precision_score(y_test, y_pred=pred))\n"
      ],
      "execution_count": null,
      "outputs": [
        {
          "output_type": "stream",
          "text": [
            "prediction 0.9669421487603306\n"
          ],
          "name": "stdout"
        }
      ]
    },
    {
      "cell_type": "code",
      "metadata": {
        "id": "Y4DkcDyF6XNj",
        "colab_type": "code",
        "colab": {
          "base_uri": "https://localhost:8080/",
          "height": 187
        },
        "outputId": "1fd93e6d-eeca-4e78-90de-95b39f929e7c"
      },
      "source": [
        "# Recall Score\n",
        "print('Recall', metrics.recall_score(y_test, y_pred=pred))\n",
        "print(metrics.classification_report(y_test, y_pred=pred))"
      ],
      "execution_count": null,
      "outputs": [
        {
          "output_type": "stream",
          "text": [
            "Recall 0.9669421487603306\n",
            "              precision    recall  f1-score   support\n",
            "\n",
            "           0       0.94      0.94      0.94        67\n",
            "           1       0.97      0.97      0.97       121\n",
            "\n",
            "    accuracy                           0.96       188\n",
            "   macro avg       0.95      0.95      0.95       188\n",
            "weighted avg       0.96      0.96      0.96       188\n",
            "\n"
          ],
          "name": "stdout"
        }
      ]
    },
    {
      "cell_type": "code",
      "metadata": {
        "id": "5fXH9Cd-87je",
        "colab_type": "code",
        "colab": {
          "base_uri": "https://localhost:8080/",
          "height": 51
        },
        "outputId": "74e12b8b-52ad-4ccd-bd02-e1e8bd9bd0db"
      },
      "source": [
        "cd = np.array(cancer_data)\n",
        "data = pd.Series(cd)\n",
        "data.head()"
      ],
      "execution_count": null,
      "outputs": [
        {
          "output_type": "execute_result",
          "data": {
            "text/plain": [
              "0    {'data': array([[1.799e+01, 1.038e+01, 1.228e+...\n",
              "dtype: object"
            ]
          },
          "metadata": {
            "tags": []
          },
          "execution_count": 47
        }
      ]
    }
  ]
}